{
  "nbformat": 4,
  "nbformat_minor": 0,
  "metadata": {
    "colab": {
      "provenance": [],
      "authorship_tag": "ABX9TyPEOyJzClk2UPqzuTi2yK+m",
      "include_colab_link": true
    },
    "kernelspec": {
      "name": "python3",
      "display_name": "Python 3"
    },
    "language_info": {
      "name": "python"
    }
  },
  "cells": [
    {
      "cell_type": "markdown",
      "metadata": {
        "id": "view-in-github",
        "colab_type": "text"
      },
      "source": [
        "<a href=\"https://colab.research.google.com/github/to61mo21/python-basic-kadai/blob/main/kkadai_008.ipynb\" target=\"_parent\"><img src=\"https://colab.research.google.com/assets/colab-badge.svg\" alt=\"Open In Colab\"/></a>"
      ]
    },
    {
      "cell_type": "code",
      "execution_count": 6,
      "metadata": {
        "colab": {
          "base_uri": "https://localhost:8080/"
        },
        "id": "b7oQeXPitJjE",
        "outputId": "dcc6fe4f-0458-461f-b844-7625ead0cc41"
      },
      "outputs": [
        {
          "output_type": "stream",
          "name": "stdout",
          "text": [
            "13\n",
            "var\n"
          ]
        }
      ],
      "source": [
        "\n",
        "import random\n",
        "var = random.randint(0, 15)\n",
        "print(var)\n",
        "#変数numの値が3の倍数の場合は「Fizz」を出力\n",
        "if var == 3 or var == 6 or var == 9 or var == 12:\n",
        "  print(\"Fizz\")\n",
        "#変数numの値が5の倍数の場合は「Bizz」を出力\n",
        "if var == 5 or var == 10:\n",
        "  print(\"Bizz\")\n",
        "#変数numの値が3と5倍数の場合は「FizzBizz」を出力\n",
        "if var == 15:\n",
        "  print(\"FizzBizz\")\n",
        "else:\n",
        "    print(\"var\")"
      ]
    }
  ]
}