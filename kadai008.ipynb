{
  "nbformat": 4,
  "nbformat_minor": 0,
  "metadata": {
    "colab": {
      "provenance": [],
      "authorship_tag": "ABX9TyN7hgJUgwqxIwX3buz9NsU2",
      "include_colab_link": true
    },
    "kernelspec": {
      "name": "python3",
      "display_name": "Python 3"
    },
    "language_info": {
      "name": "python"
    }
  },
  "cells": [
    {
      "cell_type": "markdown",
      "metadata": {
        "id": "view-in-github",
        "colab_type": "text"
      },
      "source": [
        "<a href=\"https://colab.research.google.com/github/to61mo21/python-basic-kadai/blob/main/kadai008.ipynb\" target=\"_parent\"><img src=\"https://colab.research.google.com/assets/colab-badge.svg\" alt=\"Open In Colab\"/></a>"
      ]
    },
    {
      "cell_type": "code",
      "execution_count": 55,
      "metadata": {
        "colab": {
          "base_uri": "https://localhost:8080/"
        },
        "id": "xSS6Jjxmaamw",
        "outputId": "f4a13edf-eb02-4813-842a-557c64f7c352"
      },
      "outputs": [
        {
          "output_type": "stream",
          "name": "stdout",
          "text": [
            "0\n",
            "ber\n"
          ]
        }
      ],
      "source": [
        "import random\n",
        "num = random.randint(0, 15)\n",
        "print(num)\n",
        "#変数numの値が3の倍数の場合は「Fizz」を出力\n",
        "if num == 3 or num == 6 or num == 9 or num == 12:\n",
        "  print(\"Fizz\")\n",
        "#変数numの値が5の倍数の場合は「Bizz」を出力\n",
        "if num == 5 or num == 10:\n",
        "  print(\"Bizz\")\n",
        "#変数numの値が3と5倍数の場合は「FizzBizz」を出力\n",
        "if num == 15:\n",
        "  print(\"FizzBizz\")\n",
        "else:\n",
        "    print(\"ber\")"
      ]
    }
  ]
}