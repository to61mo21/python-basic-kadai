{
  "nbformat": 4,
  "nbformat_minor": 0,
  "metadata": {
    "colab": {
      "provenance": [],
      "authorship_tag": "ABX9TyOlOnVl+RqwmT1gBJoAPIoQ",
      "include_colab_link": true
    },
    "kernelspec": {
      "name": "python3",
      "display_name": "Python 3"
    },
    "language_info": {
      "name": "python"
    }
  },
  "cells": [
    {
      "cell_type": "markdown",
      "metadata": {
        "id": "view-in-github",
        "colab_type": "text"
      },
      "source": [
        "<a href=\"https://colab.research.google.com/github/to61mo21/python-basic-kadai/blob/main/kadai005.ipynb\" target=\"_parent\"><img src=\"https://colab.research.google.com/assets/colab-badge.svg\" alt=\"Open In Colab\"/></a>"
      ]
    },
    {
      "cell_type": "code",
      "execution_count": 4,
      "metadata": {
        "colab": {
          "base_uri": "https://localhost:8080/"
        },
        "id": "3MLWSQJ1P4Eg",
        "outputId": "09648783-e83a-4f0a-9194-fbf51d3214d2"
      },
      "outputs": [
        {
          "output_type": "stream",
          "name": "stdout",
          "text": [
            "75.0cm^2\n"
          ]
        }
      ],
      "source": [
        "top_line = 10\n",
        "under_line = 20\n",
        "hight_line = 5\n",
        "\n",
        "area = (top_line + under_line) * hight_line / 2\n",
        "\n",
        "print(str(area) + \"cm^2\")"
      ]
    }
  ]
}